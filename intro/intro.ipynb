{
 "cells": [
  {
   "cell_type": "markdown",
   "id": "aggressive-marijuana",
   "metadata": {},
   "source": [
    "Welcome to our Synapse Python Client tutorial.  \n",
    "\n",
    "The idea behind this tutorial is having a way to teach you how to use the Python Client and perform certain Synapse operations on your own.  Here are the tasks this tutorial focuses on:\n",
    "\n",
    "[] - Logging in \n",
    "[] - Attempting to Download a file\n",
    "[] - Getting certified\n",
    "[] - Openning a file\n",
    "[] - Creating a folder\n",
    "[] - Uploading a file\n",
    "[] - Verifying your file in the UI\n",
    "\n",
    "The very first thing we will do is import synapse and attempt to log in.  Please replace the username and the password bellow:"
   ]
  },
  {
   "cell_type": "code",
   "execution_count": null,
   "id": "empty-beginning",
   "metadata": {
    "scrolled": true
   },
   "outputs": [],
   "source": [
    "import synapseclient\n",
    "from synapseclient import Project, Folder, File\n",
    "syn = synapseclient.Synapse()\n",
    "\n",
    "syn.login()"
   ]
  },
  {
   "cell_type": "markdown",
   "id": "daa001d6",
   "metadata": {},
   "source": [
    "After running the cell above you should receive a welcome message.  If not, make sure you followed the steps described in the README.md file.  Once logged in, we can start with our very first task: downloading a file."
   ]
  },
  {
   "cell_type": "code",
   "execution_count": null,
   "id": "ab3965a9",
   "metadata": {},
   "outputs": [],
   "source": [
    "entity = syn.get(\"syn25552168\")"
   ]
  },
  {
   "cell_type": "markdown",
   "id": "c0b97d70",
   "metadata": {},
   "source": [
    "Synapse introduces the concept of \"certified users\" to make sure anyone  downloading a file adheres to the governance rules of the platform.  If  the call above failed, please navigate to: \n",
    "\n",
    "https://www.synapse.org/#!Quiz:Certification \n",
    "\n",
    "and take the quiz.  Try the call above again once you pass the quiz."
   ]
  },
  {
   "cell_type": "code",
   "execution_count": null,
   "id": "ea51a0a8",
   "metadata": {},
   "outputs": [],
   "source": [
    "print(entity)"
   ]
  },
  {
   "cell_type": "markdown",
   "id": "45689b9d",
   "metadata": {},
   "source": [
    "As seen above, printing an entity merely prints its metadata.  However, if we inspect the metadata, we see a key called \"path\".  Proviging the path and opening the file will reveal its contents:"
   ]
  },
  {
   "cell_type": "code",
   "execution_count": null,
   "id": "f54229b8",
   "metadata": {},
   "outputs": [],
   "source": [
    "actual_file = open(entity.path)\n",
    "actual_file.readlines()"
   ]
  },
  {
   "cell_type": "markdown",
   "id": "0df72579",
   "metadata": {},
   "source": [
    "Now that we are certified and downloading files work as intenteded, we should create a space to store all of our onboarding material.  We're going to create a folder with our name under \"Synapse Interactive Documentation\"/Onboarding.  In order to do that, we need the synapse_id of our parent folder."
   ]
  },
  {
   "cell_type": "code",
   "execution_count": null,
   "id": "941aaf76",
   "metadata": {},
   "outputs": [],
   "source": [
    "your_name = \"\"\n",
    "parent_folder_id = \"syn25488570\"\n",
    "\n",
    "my_onboarding_folder = Folder(your_name, parent=parent_folder_id)\n",
    "my_onboarding_folder = syn.store(my_onboarding_folder)\n",
    "\n",
    "print(my_onboarding_folder)"
   ]
  },
  {
   "cell_type": "markdown",
   "id": "86fb8115",
   "metadata": {},
   "source": [
    "Take a moment to look at the metadata about our own folder.  Note that it received its own id.  Every entity in Synapse has its own id.  The folder is no different.  Now let's create a file and try to place it in our folder:"
   ]
  },
  {
   "cell_type": "code",
   "execution_count": null,
   "id": "a10c3873",
   "metadata": {},
   "outputs": [],
   "source": [
    "# create file\n",
    "file = open(\"tutorial_1.txt\", \"w\") \n",
    "file.write(your_name + \" has successfully completed tutorial 1\") \n",
    "file.close()\n",
    "\n",
    "# store file inside our folder\n",
    "parent_folder_id = my_onboarding_folder.id\n",
    "tutorial_file = File('./tutorial_1.txt', description='Making sure I can create files', parent=parent_folder_id)\n",
    "tutorial_file = syn.store(tutorial_file)\n",
    "\n",
    "print(tutorial_file)"
   ]
  },
  {
   "cell_type": "markdown",
   "id": "d359084a",
   "metadata": {},
   "source": [
    "Similarly to our folder, we now have all the metadata for our file.  Let's go one step further and see our file in the UI, and wrap this tutorial up:"
   ]
  },
  {
   "cell_type": "code",
   "execution_count": null,
   "id": "758346fa",
   "metadata": {},
   "outputs": [],
   "source": [
    "online = syn.onweb(tutorial_file.id)"
   ]
  }
 ],
 "metadata": {
  "kernelspec": {
   "display_name": "Python 3",
   "language": "python",
   "name": "python3"
  },
  "language_info": {
   "codemirror_mode": {
    "name": "ipython",
    "version": 3
   },
   "file_extension": ".py",
   "mimetype": "text/x-python",
   "name": "python",
   "nbconvert_exporter": "python",
   "pygments_lexer": "ipython3",
   "version": "3.8.8"
  }
 },
 "nbformat": 4,
 "nbformat_minor": 5
}
