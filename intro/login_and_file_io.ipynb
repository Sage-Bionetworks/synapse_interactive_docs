{
 "cells": [
  {
   "cell_type": "markdown",
   "id": "aggressive-marijuana",
   "metadata": {},
   "source": [
    "Welcome to our Synapse Python Client tutorial.  \n",
    "\n",
    "The idea behind this tutorial is having a way to teach you how to use the Python Client and perform certain Synapse operations on your own.  The very first thing we will do is import synapse and attempt to log in.  Please replace the username and the password bellow:"
   ]
  },
  {
   "cell_type": "code",
   "execution_count": null,
   "id": "empty-beginning",
   "metadata": {},
   "outputs": [],
   "source": [
    "import synapseclient\n",
    "syn = synapseclient.Synapse()\n",
    "\n",
    "syn.login('my_username', 'my_password')"
   ]
  }
 ],
 "metadata": {
  "kernelspec": {
   "display_name": "Python 3",
   "language": "python",
   "name": "python3"
  },
  "language_info": {
   "codemirror_mode": {
    "name": "ipython",
    "version": 3
   },
   "file_extension": ".py",
   "mimetype": "text/x-python",
   "name": "python",
   "nbconvert_exporter": "python",
   "pygments_lexer": "ipython3",
   "version": "3.8.8"
  }
 },
 "nbformat": 4,
 "nbformat_minor": 5
}
