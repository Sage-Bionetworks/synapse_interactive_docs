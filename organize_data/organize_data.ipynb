{
 "cells": [
  {
   "cell_type": "markdown",
   "metadata": {},
   "source": [
    "# Organize Data\n",
    "\n",
    "In this section of our interactive documentation, we're going to learn about organizing data. We'll complete the following tasks. Feel free to check each one off as you complete it. \n",
    "\n",
    "- [ ] Create new Folder\n",
    "- [ ] Move file\n",
    "- [ ] Rename\n",
    "- [ ] Upload new version of file\n",
    "- [ ] Upload file #2\n",
    "- [ ] Create file view"
   ]
  },
  {
   "cell_type": "code",
   "execution_count": null,
   "metadata": {},
   "outputs": [],
   "source": [
    "import synapseclient\n",
    "from synapseclient import Project, Folder, File, Link, Wiki, Schema, Column, Table, Row, RowSet, as_table_columns, EntityViewSchema, EntityViewType\n",
    "\n",
    "syn = synapseclient.Synapse()\n",
    "syn.login()"
   ]
  },
  {
   "cell_type": "markdown",
   "metadata": {},
   "source": [
    "Once you've configured your client using [these instructions](https://docs.synapse.org/articles/client_configuration.html#for-users), you'll be able to log in without entering a password, as demonstrated above.\n",
    "\n",
    "Now we're ready to create a new folder in our sandbox project, and add a new file to it. Add the synID of your Synapse sandbox project between the quotes below. Not sure what a synID is, or how to find it? Use this [doc](https://docs.synapse.org/articles/getting_started.html#synapse-ids) to learn more."
   ]
  },
  {
   "cell_type": "code",
   "execution_count": null,
   "metadata": {},
   "outputs": [],
   "source": [
    "mySandbox = syn.get('')"
   ]
  },
  {
   "cell_type": "markdown",
   "metadata": {},
   "source": [
    "`syn.get` retrieves an entity from Synapse, in this case, an entire project. ([Learn more.](https://python-docs.synapse.org/build/html/index.html?highlight=syn%20get#synapseclient.Synapse.get)) Note that you can also retrieve other entities, such as folders and individual files.\n",
    "\n",
    "Now that we've retrieved our sandbox project, we can now create a folder and store it to our project (via the `parent` parameter) using `syn.store`."
   ]
  },
  {
   "cell_type": "code",
   "execution_count": null,
   "metadata": {},
   "outputs": [],
   "source": [
    "dataFolder = Folder('My Data Folder', parent=mySandbox)\n",
    "dataFolder = syn.store(dataFolder)"
   ]
  },
  {
   "cell_type": "markdown",
   "metadata": {},
   "source": [
    "Now that we've created a new folder called 'My Data Folder' in our sandbox project, we're ready to add a file to it. Below, add the file path for a file you'd like to upload, and then run the cell."
   ]
  },
  {
   "cell_type": "code",
   "execution_count": null,
   "metadata": {},
   "outputs": [],
   "source": [
    "newFile1 = File('', description='My first data file', parent=dataFolder)\n",
    "newFile1 = syn.store(newFile1)"
   ]
  },
  {
   "cell_type": "markdown",
   "metadata": {},
   "source": [
    "To check that the folder and file have been created as expected, now either navigate to your sandbox project in another tab/window. (There are several ways to do this: \n",
    "1. Go to synapse.org, and in the top right corner, click your profile image. From the drop-down menu, select **Projects**. Filter to **Created by Me** and select your sandbox project. Once in the project, go to **FILES** and confirm the new folder and file are there. \n",
    "2. Enter the following URL into a web browswer after adding your synID after the `:`-- `https://www.synapse.org/#!Synapse:` (e.g., https://www.synapse.org/#!Synapse:syn123.)\n",
    "\n",
    "Or, use the following code to navigate to the project: "
   ]
  },
  {
   "cell_type": "code",
   "execution_count": null,
   "metadata": {},
   "outputs": [],
   "source": [
    "#NOTE: running the line below will navigate you away from Jupyter Notebook and directly to your project in the browser; make sure you've saved any work before running\n",
    "online = syn.onweb(mySandbox)"
   ]
  },
  {
   "cell_type": "markdown",
   "metadata": {},
   "source": [
    "While there, go ahead and rename the file from the web UI using these instructions. https://docs.synapse.org/articles/files_and_versioning.html\n",
    "\n",
    "Alternatively, you can do this [using `synapseutils`](https://python-docs.synapse.org/build/html/Entity.html?highlight=rename%20file#changing-file-names), but for one file, it's much faster to do this on the web."
   ]
  },
  {
   "cell_type": "markdown",
   "metadata": {},
   "source": [
    "Now we want to update the file with a new version. \n",
    "\n",
    "Again, we could do this in Python, but for one file, it's faster to do this on the web. Use [the instructions here](https://docs.synapse.org/articles/files_and_versioning.html#uploading-a-new-version) to do this. "
   ]
  },
  {
   "cell_type": "markdown",
   "metadata": {},
   "source": [
    "Now let's add another file."
   ]
  },
  {
   "cell_type": "code",
   "execution_count": null,
   "metadata": {},
   "outputs": [],
   "source": [
    "newFile2 = File('', description='My second data file', parent=dataFolder)\n",
    "newFile2 = syn.store(newFile2)"
   ]
  },
  {
   "cell_type": "markdown",
   "metadata": {},
   "source": [
    "Because we now have two files stored in our Synapse project, it's time to [create a file view](https://docs.synapse.org/articles/views.html#create-a-file-view). Synapse allows us to create several kinds of views; these views enable querying across metadata. Read more about [views](https://docs.synapse.org/articles/views.html#toc-views).\n",
    "\n",
    "Feel free to change the column names (or add new ones) below to match the type of files you've added to your project. You can also learn more about the various parameters for creating views in the [Python docs](https://python-docs.synapse.org/build/html/Views.html). "
   ]
  },
  {
   "cell_type": "code",
   "execution_count": null,
   "metadata": {},
   "outputs": [],
   "source": [
    "view = EntityViewSchema(name=\"Project Files and Metadata\",\n",
    "                        columns=[\n",
    "                            Column(name=\"fileType\", columnType=\"STRING\", maximumSize=\"57\"),\n",
    "                            Column(name=\"fileNumber\", columnType=\"INTEGER\"),\n",
    "                            Column(name=\"projectId\", columnType=\"ENTITYID\")],\n",
    "                        parent=mySandbox,\n",
    "                        scopes=mySandbox,\n",
    "                        includeEntityTypes=[EntityViewType.FILE],\n",
    "                        add_default_columns=True)\n",
    "view = syn.store(view)"
   ]
  }
 ],
 "metadata": {
  "kernelspec": {
   "display_name": "Python 3",
   "language": "python",
   "name": "python3"
  },
  "language_info": {
   "codemirror_mode": {
    "name": "ipython",
    "version": 3
   },
   "file_extension": ".py",
   "mimetype": "text/x-python",
   "name": "python",
   "nbconvert_exporter": "python",
   "pygments_lexer": "ipython3",
   "version": "3.7.6"
  }
 },
 "nbformat": 4,
 "nbformat_minor": 4
}
